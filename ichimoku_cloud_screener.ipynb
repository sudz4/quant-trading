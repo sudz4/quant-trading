{
 "cells": [
  {
   "cell_type": "code",
   "execution_count": 1,
   "metadata": {},
   "outputs": [
    {
     "data": {
      "text/plain": [
       "True"
      ]
     },
     "execution_count": 1,
     "metadata": {},
     "output_type": "execute_result"
    }
   ],
   "source": [
    "# libs\n",
    "import os\n",
    "import pandas as pd\n",
    "import requests\n",
    "from dotenv import load_dotenv #pip3 install python-dotenv\n",
    "\n",
    "# load secrets\n",
    "load_dotenv()"
   ]
  },
  {
   "cell_type": "code",
   "execution_count": 2,
   "metadata": {},
   "outputs": [
    {
     "ename": "NameError",
     "evalue": "name 'IEX_CLOUD_API_TOKEN' is not defined",
     "output_type": "error",
     "traceback": [
      "\u001b[0;31m---------------------------------------------------------------------------\u001b[0m",
      "\u001b[0;31mNameError\u001b[0m                                 Traceback (most recent call last)",
      "\u001b[1;32m/Users/sudz4/Desktop/QUANT/quant-trading/ichimoku_cloud_screener.ipynb Cell 2\u001b[0m line \u001b[0;36m1\n\u001b[1;32m     <a href='vscode-notebook-cell:/Users/sudz4/Desktop/QUANT/quant-trading/ichimoku_cloud_screener.ipynb#W1sZmlsZQ%3D%3D?line=15'>16</a>\u001b[0m     \u001b[39mreturn\u001b[39;00m df\n\u001b[1;32m     <a href='vscode-notebook-cell:/Users/sudz4/Desktop/QUANT/quant-trading/ichimoku_cloud_screener.ipynb#W1sZmlsZQ%3D%3D?line=17'>18</a>\u001b[0m \u001b[39m# Fetch historical data for Palantir (PLTR)\u001b[39;00m\n\u001b[0;32m---> <a href='vscode-notebook-cell:/Users/sudz4/Desktop/QUANT/quant-trading/ichimoku_cloud_screener.ipynb#W1sZmlsZQ%3D%3D?line=18'>19</a>\u001b[0m df_pltr \u001b[39m=\u001b[39m get_historical_data(\u001b[39m'\u001b[39m\u001b[39mPLTR\u001b[39m\u001b[39m'\u001b[39m, IEX_CLOUD_API_TOKEN)\n\u001b[1;32m     <a href='vscode-notebook-cell:/Users/sudz4/Desktop/QUANT/quant-trading/ichimoku_cloud_screener.ipynb#W1sZmlsZQ%3D%3D?line=20'>21</a>\u001b[0m \u001b[39m# Show the first few rows of the DataFrame\u001b[39;00m\n\u001b[1;32m     <a href='vscode-notebook-cell:/Users/sudz4/Desktop/QUANT/quant-trading/ichimoku_cloud_screener.ipynb#W1sZmlsZQ%3D%3D?line=21'>22</a>\u001b[0m \u001b[39mprint\u001b[39m(df_pltr\u001b[39m.\u001b[39mhead())\n",
      "\u001b[0;31mNameError\u001b[0m: name 'IEX_CLOUD_API_TOKEN' is not defined"
     ]
    }
   ],
   "source": [
    "# Fetch your IEX Cloud API token from the environment variable\n",
    "iex_key = os.getenv('IEX_API_KEY')\n",
    "\n",
    "# Function to fetch historical data for a stock symbol from IEX Cloud\n",
    "def get_historical_data(symbol, token):\n",
    "    url = f'https://cloud.iexapis.com/stable/stock/{symbol}/chart/1y?token={iex_key}'\n",
    "    response = requests.get(url)\n",
    "    data = response.json()\n",
    "    # Convert to DataFrame\n",
    "    df = pd.DataFrame(data)\n",
    "    # Convert date to datetime and set as index\n",
    "    df['date'] = pd.to_datetime(df['date'])\n",
    "    df.set_index('date', inplace=True)\n",
    "    # Ensure the data is sorted by date\n",
    "    df.sort_index(inplace=True)\n",
    "    return df\n",
    "\n",
    "# Fetch historical data for Palantir (PLTR)\n",
    "df_pltr = get_historical_data('PLTR', iex_key)\n",
    "\n",
    "# Show the first few rows of the DataFrame\n",
    "print(df_pltr.head())\n"
   ]
  }
 ],
 "metadata": {
  "kernelspec": {
   "display_name": "qt_venv",
   "language": "python",
   "name": "python3"
  },
  "language_info": {
   "codemirror_mode": {
    "name": "ipython",
    "version": 3
   },
   "file_extension": ".py",
   "mimetype": "text/x-python",
   "name": "python",
   "nbconvert_exporter": "python",
   "pygments_lexer": "ipython3",
   "version": "3.11.1"
  }
 },
 "nbformat": 4,
 "nbformat_minor": 2
}
