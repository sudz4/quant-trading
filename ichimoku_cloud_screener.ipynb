{
 "cells": [
  {
   "cell_type": "code",
   "execution_count": null,
   "metadata": {},
   "outputs": [],
   "source": [
    "# libs\n",
    "import os\n",
    "import pandas as pd\n",
    "import requests\n",
    "from dotenv import load_dotenv #pip3 install python-dotenv\n",
    "\n",
    "# load secrets\n",
    "load_dotenv()"
   ]
  },
  {
   "cell_type": "code",
   "execution_count": null,
   "metadata": {},
   "outputs": [],
   "source": [
    "# Fetch your IEX Cloud API token from the environment variable\n",
    "iex_key = os.getenv('IEX_API_KEY')\n",
    "\n",
    "# Function to fetch historical data for a stock symbol from IEX Cloud\n",
    "def get_historical_data(symbol, token):\n",
    "    url = f'https://cloud.iexapis.com/stable/stock/{symbol}/chart/1y?token={iex_key}'\n",
    "    response = requests.get(url)\n",
    "    data = response.json()\n",
    "    # Convert to DataFrame\n",
    "    df = pd.DataFrame(data)\n",
    "    # Convert date to datetime and set as index\n",
    "    df['date'] = pd.to_datetime(df['date'])\n",
    "    df.set_index('date', inplace=True)\n",
    "    # Ensure the data is sorted by date\n",
    "    df.sort_index(inplace=True)\n",
    "    return df\n",
    "\n",
    "# Fetch historical data for Palantir (PLTR)\n",
    "df_pltr = get_historical_data('PLTR', IEX_CLOUD_API_TOKEN)\n",
    "\n",
    "# Show the first few rows of the DataFrame\n",
    "print(df_pltr.head())\n"
   ]
  }
 ],
 "metadata": {
  "language_info": {
   "name": "python"
  }
 },
 "nbformat": 4,
 "nbformat_minor": 2
}
